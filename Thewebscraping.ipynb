{
 "cells": [
  {
   "cell_type": "code",
   "execution_count": 3,
   "id": "9ada203a",
   "metadata": {},
   "outputs": [
    {
     "name": "stdout",
     "output_type": "stream",
     "text": [
      "Requirement already satisfied: beautifulsoup4 in c:\\users\\zara123\\anaconda3\\lib\\site-packages (4.11.1)\n",
      "Requirement already satisfied: soupsieve>1.2 in c:\\users\\zara123\\anaconda3\\lib\\site-packages (from beautifulsoup4) (2.3.1)\n",
      "Note: you may need to restart the kernel to use updated packages.\n"
     ]
    }
   ],
   "source": [
    "pip install beautifulsoup4 "
   ]
  },
  {
   "cell_type": "code",
   "execution_count": 1,
   "id": "89f0e6ea",
   "metadata": {},
   "outputs": [
    {
     "name": "stdout",
     "output_type": "stream",
     "text": [
      "Requirement already satisfied: Scrapy in c:\\users\\zara123\\anaconda3\\lib\\site-packages (2.6.1)\n",
      "Requirement already satisfied: cssselect>=0.9.1 in c:\\users\\zara123\\anaconda3\\lib\\site-packages (from Scrapy) (1.1.0)\n",
      "Requirement already satisfied: PyDispatcher>=2.0.5 in c:\\users\\zara123\\anaconda3\\lib\\site-packages (from Scrapy) (2.0.5)\n",
      "Requirement already satisfied: w3lib>=1.17.0 in c:\\users\\zara123\\anaconda3\\lib\\site-packages (from Scrapy) (1.21.0)\n",
      "Requirement already satisfied: protego>=0.1.15 in c:\\users\\zara123\\anaconda3\\lib\\site-packages (from Scrapy) (0.1.16)\n",
      "Requirement already satisfied: parsel>=1.5.0 in c:\\users\\zara123\\anaconda3\\lib\\site-packages (from Scrapy) (1.6.0)\n",
      "Note: you may need to restart the kernel to use updated packages.\n",
      "Requirement already satisfied: Twisted>=17.9.0 in c:\\users\\zara123\\anaconda3\\lib\\site-packages (from Scrapy) (22.2.0)\n",
      "Requirement already satisfied: queuelib>=1.4.2 in c:\\users\\zara123\\anaconda3\\lib\\site-packages (from Scrapy) (1.5.0)\n",
      "Requirement already satisfied: itemadapter>=0.1.0 in c:\\users\\zara123\\anaconda3\\lib\\site-packages (from Scrapy) (0.3.0)\n",
      "Requirement already satisfied: lxml>=3.5.0 in c:\\users\\zara123\\anaconda3\\lib\\site-packages (from Scrapy) (4.8.0)\n",
      "Requirement already satisfied: setuptools in c:\\users\\zara123\\anaconda3\\lib\\site-packages (from Scrapy) (61.2.0)\n",
      "Requirement already satisfied: cryptography>=2.0 in c:\\users\\zara123\\anaconda3\\lib\\site-packages (from Scrapy) (3.4.8)\n",
      "Requirement already satisfied: pyOpenSSL>=16.2.0 in c:\\users\\zara123\\anaconda3\\lib\\site-packages (from Scrapy) (21.0.0)\n",
      "Requirement already satisfied: service-identity>=16.0.0 in c:\\users\\zara123\\anaconda3\\lib\\site-packages (from Scrapy) (18.1.0)\n",
      "Requirement already satisfied: tldextract in c:\\users\\zara123\\anaconda3\\lib\\site-packages (from Scrapy) (3.2.0)\n",
      "Requirement already satisfied: zope.interface>=4.1.3 in c:\\users\\zara123\\anaconda3\\lib\\site-packages (from Scrapy) (5.4.0)\n",
      "Requirement already satisfied: itemloaders>=1.0.1 in c:\\users\\zara123\\anaconda3\\lib\\site-packages (from Scrapy) (1.0.4)\n",
      "Requirement already satisfied: cffi>=1.12 in c:\\users\\zara123\\anaconda3\\lib\\site-packages (from cryptography>=2.0->Scrapy) (1.15.0)\n",
      "Requirement already satisfied: pycparser in c:\\users\\zara123\\anaconda3\\lib\\site-packages (from cffi>=1.12->cryptography>=2.0->Scrapy) (2.21)\n",
      "Requirement already satisfied: jmespath>=0.9.5 in c:\\users\\zara123\\anaconda3\\lib\\site-packages (from itemloaders>=1.0.1->Scrapy) (0.10.0)\n",
      "Requirement already satisfied: six>=1.6.0 in c:\\users\\zara123\\anaconda3\\lib\\site-packages (from parsel>=1.5.0->Scrapy) (1.16.0)\n",
      "Requirement already satisfied: attrs>=16.0.0 in c:\\users\\zara123\\anaconda3\\lib\\site-packages (from service-identity>=16.0.0->Scrapy) (21.4.0)\n",
      "Requirement already satisfied: pyasn1-modules in c:\\users\\zara123\\anaconda3\\lib\\site-packages (from service-identity>=16.0.0->Scrapy) (0.2.8)\n",
      "Requirement already satisfied: pyasn1 in c:\\users\\zara123\\anaconda3\\lib\\site-packages (from service-identity>=16.0.0->Scrapy) (0.4.8)\n",
      "Requirement already satisfied: hyperlink>=17.1.1 in c:\\users\\zara123\\anaconda3\\lib\\site-packages (from Twisted>=17.9.0->Scrapy) (21.0.0)\n",
      "Requirement already satisfied: constantly>=15.1 in c:\\users\\zara123\\anaconda3\\lib\\site-packages (from Twisted>=17.9.0->Scrapy) (15.1.0)\n",
      "Requirement already satisfied: Automat>=0.8.0 in c:\\users\\zara123\\anaconda3\\lib\\site-packages (from Twisted>=17.9.0->Scrapy) (20.2.0)\n",
      "Requirement already satisfied: typing-extensions>=3.6.5 in c:\\users\\zara123\\anaconda3\\lib\\site-packages (from Twisted>=17.9.0->Scrapy) (4.1.1)\n",
      "Requirement already satisfied: incremental>=21.3.0 in c:\\users\\zara123\\anaconda3\\lib\\site-packages (from Twisted>=17.9.0->Scrapy) (21.3.0)\n",
      "Requirement already satisfied: twisted-iocpsupport<2,>=1.0.2 in c:\\users\\zara123\\anaconda3\\lib\\site-packages (from Twisted>=17.9.0->Scrapy) (1.0.2)\n",
      "Requirement already satisfied: idna>=2.5 in c:\\users\\zara123\\anaconda3\\lib\\site-packages (from hyperlink>=17.1.1->Twisted>=17.9.0->Scrapy) (3.3)\n",
      "Requirement already satisfied: requests-file>=1.4 in c:\\users\\zara123\\anaconda3\\lib\\site-packages (from tldextract->Scrapy) (1.5.1)\n",
      "Requirement already satisfied: requests>=2.1.0 in c:\\users\\zara123\\anaconda3\\lib\\site-packages (from tldextract->Scrapy) (2.27.1)\n",
      "Requirement already satisfied: filelock>=3.0.8 in c:\\users\\zara123\\anaconda3\\lib\\site-packages (from tldextract->Scrapy) (3.6.0)\n",
      "Requirement already satisfied: urllib3<1.27,>=1.21.1 in c:\\users\\zara123\\anaconda3\\lib\\site-packages (from requests>=2.1.0->tldextract->Scrapy) (1.26.9)\n",
      "Requirement already satisfied: charset-normalizer~=2.0.0 in c:\\users\\zara123\\anaconda3\\lib\\site-packages (from requests>=2.1.0->tldextract->Scrapy) (2.0.4)\n",
      "Requirement already satisfied: certifi>=2017.4.17 in c:\\users\\zara123\\anaconda3\\lib\\site-packages (from requests>=2.1.0->tldextract->Scrapy) (2021.10.8)\n"
     ]
    }
   ],
   "source": [
    "pip install Scrapy\n"
   ]
  },
  {
   "cell_type": "code",
   "execution_count": 4,
   "id": "6070fef6",
   "metadata": {},
   "outputs": [],
   "source": []
  },
  {
   "cell_type": "code",
   "execution_count": 6,
   "id": "c539c77f",
   "metadata": {},
   "outputs": [],
   "source": [
    "from urllib.request import urlopen as uReq\n",
    "from bs4 import BeautifulSoup as soup"
   ]
  },
  {
   "cell_type": "code",
   "execution_count": 7,
   "id": "091e3e03",
   "metadata": {},
   "outputs": [],
   "source": [
    "quotes_page='https://bluelimelearning.github.io/my-fav-quotes/'\n"
   ]
  },
  {
   "cell_type": "code",
   "execution_count": 8,
   "id": "8ebba6f7",
   "metadata": {},
   "outputs": [],
   "source": [
    "uClient= uReq(quotes_page)"
   ]
  },
  {
   "cell_type": "code",
   "execution_count": 9,
   "id": "8ebda72e",
   "metadata": {},
   "outputs": [],
   "source": [
    "page_html = uClient.read()"
   ]
  },
  {
   "cell_type": "code",
   "execution_count": 10,
   "id": "e0ac43b5",
   "metadata": {},
   "outputs": [],
   "source": [
    "uClient.close()"
   ]
  },
  {
   "cell_type": "code",
   "execution_count": 11,
   "id": "bcd02619",
   "metadata": {},
   "outputs": [],
   "source": [
    "page_soup= soup(page_html, \"html.parser\")"
   ]
  },
  {
   "cell_type": "code",
   "execution_count": 19,
   "id": "3c881929",
   "metadata": {},
   "outputs": [
    {
     "data": {
      "text/plain": [
       "19"
      ]
     },
     "execution_count": 19,
     "metadata": {},
     "output_type": "execute_result"
    }
   ],
   "source": [
    "quotes= page_soup.findAll(\"div\",{\"class\":\"quotes\"})\n",
    "len(quotes)"
   ]
  },
  {
   "cell_type": "code",
   "execution_count": 20,
   "id": "67bead05",
   "metadata": {},
   "outputs": [
    {
     "data": {
      "text/plain": [
       "<div class=\"quotes\">\n",
       "<p class=\"aquote\">\n",
       "                    Feeling gratitude and not<br/> expressing it is like wrapping<br/> a present and not giving it.\n",
       "                </p>\n",
       "<p class=\"author\">\n",
       "                    William Arthur Ward\n",
       "                </p>\n",
       "</div>"
      ]
     },
     "execution_count": 20,
     "metadata": {},
     "output_type": "execute_result"
    }
   ],
   "source": [
    "quotes[1]"
   ]
  },
  {
   "cell_type": "code",
   "execution_count": 21,
   "id": "c44336bd",
   "metadata": {},
   "outputs": [
    {
     "data": {
      "text/plain": [
       "'Feeling gratitude and not expressing it is like wrapping a present and not giving it.\\n                \\n\\n                    William Arthur Ward'"
      ]
     },
     "execution_count": 21,
     "metadata": {},
     "output_type": "execute_result"
    }
   ],
   "source": [
    "quotes[1].text.strip()"
   ]
  },
  {
   "cell_type": "code",
   "execution_count": 22,
   "id": "bb9216c3",
   "metadata": {},
   "outputs": [
    {
     "data": {
      "text/plain": [
       "<h1>Words of Wisdom</h1>"
      ]
     },
     "execution_count": 22,
     "metadata": {},
     "output_type": "execute_result"
    }
   ],
   "source": [
    "page_soup.h1"
   ]
  },
  {
   "cell_type": "code",
   "execution_count": 24,
   "id": "7a66f7e3",
   "metadata": {},
   "outputs": [
    {
     "data": {
      "text/plain": [
       "'Words of Wisdom'"
      ]
     },
     "execution_count": 24,
     "metadata": {},
     "output_type": "execute_result"
    }
   ],
   "source": [
    "page_soup.h1.text.strip()"
   ]
  },
  {
   "cell_type": "code",
   "execution_count": 52,
   "id": "fb9f0c25",
   "metadata": {},
   "outputs": [],
   "source": [
    "fav_quotes = page_soup.findAll(\"p\", {\"class\":\"aquote\"})\n",
    "fav_author= page_soup.findAll(\"p\", {\"class\":\"author\"})\n"
   ]
  },
  {
   "cell_type": "code",
   "execution_count": 46,
   "id": "c64c2f78",
   "metadata": {},
   "outputs": [
    {
     "name": "stdout",
     "output_type": "stream",
     "text": [
      "[<p class=\"aquote\">\n",
      "                I hear and i forget.<br/> I see and i remember.<br/> I do and i understand.\n",
      "            </p>, <p class=\"aquote\">\n",
      "                    Feeling gratitude and not<br/> expressing it is like wrapping<br/> a present and not giving it.\n",
      "                </p>, <p class=\"aquote\">\n",
      "                    Our greatest glory is not in never falling<br/> but in rising every time we fall.\n",
      "                </p>, <p class=\"aquote\">\n",
      "                    The secret of getting ahead<br/>is getting started.\n",
      "                </p>, <p class=\"aquote\">\n",
      "                    Believe you can  <br/> and you're halfway there.\n",
      "                </p>, <p class=\"aquote\">\n",
      "                    Resentment is like drinking Poison and  <br/>waiting for your enemies to die.\n",
      "                </p>, <p class=\"aquote\">\n",
      "                    Silence is a true friend  <br/> who never betrays.\n",
      "                </p>, <p class=\"aquote\">\n",
      "                    The best way to find yourself is to  <br/> lose yourself in the service of others.\n",
      "                </p>, <p class=\"aquote\">\n",
      "                    Never succumb to the <br/>temptation of bitterness.\n",
      "                </p>, <p class=\"aquote\">\n",
      "                    The journey of a thousand miles  <br/>begins with one step.\n",
      "                </p>, <p class=\"aquote\">\n",
      "                    It is health that is real wealth and  <br/>not pieces of gold and silver.\n",
      "                </p>, <p class=\"aquote\">\n",
      "                    Yesterday is not ours to recover  <br/>but tomorrow is ours to win or lose.\n",
      "                </p>, <p class=\"aquote\">\n",
      "                    It's not what happens to you  <br/>but how you react to it that matters .\n",
      "                </p>, <p class=\"aquote\">\n",
      "                    Beware of what you become  <br/>in pursuit of what you want.\n",
      "                </p>, <p class=\"aquote\">\n",
      "                    The best revenge  <br/>is massive success.\n",
      "                </p>, <p class=\"aquote\">\n",
      "                    Do not take life too seriously <br/>You will never get out of it alive.\n",
      "                </p>, <p class=\"aquote\">\n",
      "                    Don't judge each day by the harvest you reap  <br/>but by the seeds that yiu plant.\n",
      "                </p>, <p class=\"aquote\">\n",
      "                    Your attitude and not your aptitude  <br/>will determine your altitude\n",
      "                </p>, <p class=\"aquote\">\n",
      "                    Imagination is more important  <br/>than knowledge.\n",
      "                </p>]\n"
     ]
    }
   ],
   "source": [
    "print(fav_quotes)\n"
   ]
  },
  {
   "cell_type": "code",
   "execution_count": null,
   "id": "ebfec3cc",
   "metadata": {},
   "outputs": [],
   "source": [
    "\n"
   ]
  },
  {
   "cell_type": "code",
   "execution_count": 55,
   "id": "5bf49bfa",
   "metadata": {},
   "outputs": [
    {
     "name": "stdout",
     "output_type": "stream",
     "text": [
      "[<p class=\"author\">\n",
      "                Confucious\n",
      "            </p>, <p class=\"author\">\n",
      "                    William Arthur Ward\n",
      "                </p>, <p class=\"author\">\n",
      "                    Confucious\n",
      "                </p>, <p class=\"author\">\n",
      "                    Mark Twain\n",
      "                </p>, <p class=\"author\">\n",
      "                    Theodore Roosevelt\n",
      "                </p>, <p class=\"author\">\n",
      "                    Nelson Mandela\n",
      "                </p>, <p class=\"author\">\n",
      "                    Confucius\n",
      "                </p>, <p class=\"author\">\n",
      "                    Mahatma Gandhi\n",
      "                </p>, <p class=\"author\">\n",
      "                    Martin Luther King Jnr\n",
      "                </p>, <p class=\"author\">\n",
      "                    Lao Tzu\n",
      "                </p>, <p class=\"author\">\n",
      "                    Mahatma Gandhi\n",
      "                </p>, <p class=\"author\">\n",
      "                    Lyndon B Johnson\n",
      "                </p>, <p class=\"author\">\n",
      "                    Epictetus\n",
      "                </p>, <p class=\"author\">\n",
      "                    Jim Rohn\n",
      "                </p>, <p class=\"author\">\n",
      "                    Frank Sinatra\n",
      "                </p>, <p class=\"author\">\n",
      "                    Elbert Hubbard\n",
      "                </p>, <p class=\"author\">\n",
      "                    Robert Loius Stevenson\n",
      "                </p>, <p class=\"author\">\n",
      "                    Zig Ziglar\n",
      "                </p>, <p class=\"author\">\n",
      "                    Albert Einstein\n",
      "                </p>]\n"
     ]
    }
   ],
   "source": [
    "print(fav_author)\n"
   ]
  },
  {
   "cell_type": "code",
   "execution_count": null,
   "id": "86d6aaf9",
   "metadata": {},
   "outputs": [],
   "source": []
  },
  {
   "cell_type": "code",
   "execution_count": 66,
   "id": "4ad89ef5",
   "metadata": {},
   "outputs": [],
   "source": [
    "for quote in quotes: \n",
    "    fav_quote = quote.findAll(\"p\",{\"class\":\"aquote\"})\n",
    "    aquote = fav_quote[0].text.strip()\n",
    "    \n",
    "    fav_authors = quote.findAll(\"p\",{\"class\":\"author\"})\n",
    "    author = fav_authors[0].text.strip()"
   ]
  },
  {
   "cell_type": "code",
   "execution_count": 71,
   "id": "69f76131",
   "metadata": {},
   "outputs": [
    {
     "data": {
      "text/plain": [
       "[<div class=\"quotes\">\n",
       " <p class=\"aquote\">\n",
       "                 I hear and i forget.<br/> I see and i remember.<br/> I do and i understand.\n",
       "             </p>\n",
       " <p class=\"author\">\n",
       "                 Confucious\n",
       "             </p>\n",
       " </div>,\n",
       " <div class=\"quotes\">\n",
       " <p class=\"aquote\">\n",
       "                     Feeling gratitude and not<br/> expressing it is like wrapping<br/> a present and not giving it.\n",
       "                 </p>\n",
       " <p class=\"author\">\n",
       "                     William Arthur Ward\n",
       "                 </p>\n",
       " </div>,\n",
       " <div class=\"quotes\">\n",
       " <p class=\"aquote\">\n",
       "                     Our greatest glory is not in never falling<br/> but in rising every time we fall.\n",
       "                 </p>\n",
       " <p class=\"author\">\n",
       "                     Confucious\n",
       "                 </p>\n",
       " </div>,\n",
       " <div class=\"quotes\">\n",
       " <p class=\"aquote\">\n",
       "                     The secret of getting ahead<br/>is getting started.\n",
       "                 </p>\n",
       " <p class=\"author\">\n",
       "                     Mark Twain\n",
       "                 </p>\n",
       " </div>,\n",
       " <div class=\"quotes\">\n",
       " <p class=\"aquote\">\n",
       "                     Believe you can  <br/> and you're halfway there.\n",
       "                 </p>\n",
       " <p class=\"author\">\n",
       "                     Theodore Roosevelt\n",
       "                 </p>\n",
       " </div>,\n",
       " <div class=\"quotes\">\n",
       " <p class=\"aquote\">\n",
       "                     Resentment is like drinking Poison and  <br/>waiting for your enemies to die.\n",
       "                 </p>\n",
       " <p class=\"author\">\n",
       "                     Nelson Mandela\n",
       "                 </p>\n",
       " </div>,\n",
       " <div class=\"quotes\">\n",
       " <p class=\"aquote\">\n",
       "                     Silence is a true friend  <br/> who never betrays.\n",
       "                 </p>\n",
       " <p class=\"author\">\n",
       "                     Confucius\n",
       "                 </p>\n",
       " </div>,\n",
       " <div class=\"quotes\">\n",
       " <p class=\"aquote\">\n",
       "                     The best way to find yourself is to  <br/> lose yourself in the service of others.\n",
       "                 </p>\n",
       " <p class=\"author\">\n",
       "                     Mahatma Gandhi\n",
       "                 </p>\n",
       " </div>,\n",
       " <div class=\"quotes\">\n",
       " <p class=\"aquote\">\n",
       "                     Never succumb to the <br/>temptation of bitterness.\n",
       "                 </p>\n",
       " <p class=\"author\">\n",
       "                     Martin Luther King Jnr\n",
       "                 </p>\n",
       " </div>,\n",
       " <div class=\"quotes\">\n",
       " <p class=\"aquote\">\n",
       "                     The journey of a thousand miles  <br/>begins with one step.\n",
       "                 </p>\n",
       " <p class=\"author\">\n",
       "                     Lao Tzu\n",
       "                 </p>\n",
       " </div>,\n",
       " <div class=\"quotes\">\n",
       " <p class=\"aquote\">\n",
       "                     It is health that is real wealth and  <br/>not pieces of gold and silver.\n",
       "                 </p>\n",
       " <p class=\"author\">\n",
       "                     Mahatma Gandhi\n",
       "                 </p>\n",
       " </div>,\n",
       " <div class=\"quotes\">\n",
       " <p class=\"aquote\">\n",
       "                     Yesterday is not ours to recover  <br/>but tomorrow is ours to win or lose.\n",
       "                 </p>\n",
       " <p class=\"author\">\n",
       "                     Lyndon B Johnson\n",
       "                 </p>\n",
       " </div>,\n",
       " <div class=\"quotes\">\n",
       " <p class=\"aquote\">\n",
       "                     It's not what happens to you  <br/>but how you react to it that matters .\n",
       "                 </p>\n",
       " <p class=\"author\">\n",
       "                     Epictetus\n",
       "                 </p>\n",
       " </div>,\n",
       " <div class=\"quotes\">\n",
       " <p class=\"aquote\">\n",
       "                     Beware of what you become  <br/>in pursuit of what you want.\n",
       "                 </p>\n",
       " <p class=\"author\">\n",
       "                     Jim Rohn\n",
       "                 </p>\n",
       " </div>,\n",
       " <div class=\"quotes\">\n",
       " <p class=\"aquote\">\n",
       "                     The best revenge  <br/>is massive success.\n",
       "                 </p>\n",
       " <p class=\"author\">\n",
       "                     Frank Sinatra\n",
       "                 </p>\n",
       " </div>,\n",
       " <div class=\"quotes\">\n",
       " <p class=\"aquote\">\n",
       "                     Do not take life too seriously <br/>You will never get out of it alive.\n",
       "                 </p>\n",
       " <p class=\"author\">\n",
       "                     Elbert Hubbard\n",
       "                 </p>\n",
       " </div>,\n",
       " <div class=\"quotes\">\n",
       " <p class=\"aquote\">\n",
       "                     Don't judge each day by the harvest you reap  <br/>but by the seeds that yiu plant.\n",
       "                 </p>\n",
       " <p class=\"author\">\n",
       "                     Robert Loius Stevenson\n",
       "                 </p>\n",
       " </div>,\n",
       " <div class=\"quotes\">\n",
       " <p class=\"aquote\">\n",
       "                     Your attitude and not your aptitude  <br/>will determine your altitude\n",
       "                 </p>\n",
       " <p class=\"author\">\n",
       "                     Zig Ziglar\n",
       "                 </p>\n",
       " </div>,\n",
       " <div class=\"quotes\">\n",
       " <p class=\"aquote\">\n",
       "                     Imagination is more important  <br/>than knowledge.\n",
       "                 </p>\n",
       " <p class=\"author\">\n",
       "                     Albert Einstein\n",
       "                 </p>\n",
       " </div>]"
      ]
     },
     "execution_count": 71,
     "metadata": {},
     "output_type": "execute_result"
    }
   ],
   "source": [
    "quotes"
   ]
  },
  {
   "cell_type": "code",
   "execution_count": 70,
   "id": "d1b07a5b",
   "metadata": {},
   "outputs": [
    {
     "data": {
      "text/plain": [
       "'Feeling gratitude and not expressing it is like wrapping a present and not giving it.\\n                \\n\\n                    William Arthur Ward'"
      ]
     },
     "execution_count": 70,
     "metadata": {},
     "output_type": "execute_result"
    }
   ],
   "source": [
    "quotes[1].text.strip()"
   ]
  },
  {
   "cell_type": "code",
   "execution_count": null,
   "id": "3088a5de",
   "metadata": {},
   "outputs": [],
   "source": []
  },
  {
   "cell_type": "code",
   "execution_count": null,
   "id": "67231d21",
   "metadata": {},
   "outputs": [],
   "source": []
  },
  {
   "cell_type": "code",
   "execution_count": null,
   "id": "8bdda711",
   "metadata": {},
   "outputs": [],
   "source": []
  }
 ],
 "metadata": {
  "kernelspec": {
   "display_name": "Python 3 (ipykernel)",
   "language": "python",
   "name": "python3"
  },
  "language_info": {
   "codemirror_mode": {
    "name": "ipython",
    "version": 3
   },
   "file_extension": ".py",
   "mimetype": "text/x-python",
   "name": "python",
   "nbconvert_exporter": "python",
   "pygments_lexer": "ipython3",
   "version": "3.9.12"
  }
 },
 "nbformat": 4,
 "nbformat_minor": 5
}
